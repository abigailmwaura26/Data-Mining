{
  "nbformat": 4,
  "nbformat_minor": 0,
  "metadata": {
    "accelerator": "GPU",
    "colab": {
      "provenance": [],
      "include_colab_link": true
    },
    "coursera": {
      "course_slug": "natural-language-processing-tensorflow",
      "graded_item_id": "3n7IN",
      "launcher_item_id": "I08yU"
    },
    "kernelspec": {
      "display_name": "Python 3",
      "language": "python",
      "name": "python3"
    },
    "language_info": {
      "codemirror_mode": {
        "name": "ipython",
        "version": 3
      },
      "file_extension": ".py",
      "mimetype": "text/x-python",
      "name": "python",
      "nbconvert_exporter": "python",
      "pygments_lexer": "ipython3",
      "version": "3.6.8"
    }
  },
  "cells": [
    {
      "cell_type": "markdown",
      "metadata": {
        "id": "view-in-github",
        "colab_type": "text"
      },
      "source": [
        "<a href=\"https://colab.research.google.com/github/abigailmwaura26/Data-Mining/blob/main/WEEK5_BBC_ExerciseV2_1.ipynb\" target=\"_parent\"><img src=\"https://colab.research.google.com/assets/colab-badge.svg\" alt=\"Open In Colab\"/></a>"
      ]
    },
    {
      "cell_type": "code",
      "metadata": {
        "id": "gnwiOnGyW5JK"
      },
      "source": [
        "\n",
        "import csv\n",
        "import tensorflow as tf\n",
        "import numpy as np\n",
        "from tensorflow.keras.preprocessing.text import Tokenizer\n",
        "from tensorflow.keras.preprocessing.sequence import pad_sequences\n",
        "from os import getcwd\n",
        "\n"
      ],
      "execution_count": 27,
      "outputs": []
    },
    {
      "cell_type": "markdown",
      "metadata": {
        "id": "tYw-e9pDGdL_"
      },
      "source": [
        "This Python notebook is from *Exercise 2 BBC News Archive* in the Coursera class *Natural Language Processing in Tensorflow*.\n",
        "\n",
        "Adapted by Jung Hee Kim and Michael Glass.\n",
        "\n",
        "## Use word embeddings and a neural network to classify BBC news articles."
      ]
    },
    {
      "cell_type": "code",
      "metadata": {
        "id": "GaVpWZetzfpv",
        "colab": {
          "base_uri": "https://localhost:8080/"
        },
        "outputId": "da0a39c2-c35d-41f9-9258-ed3f5b4d8144"
      },
      "source": [
        "# Fetch the dataset of BBC news articles, with six different categories\n",
        "# You can read about this dataset here: https://www.kaggle.com/yufengdev/bbc-fulltext-and-category\n",
        "#\n",
        "!wget https://storage.googleapis.com/dataset-uploader/bbc/bbc-text.csv\n",
        "path_bbc = \"bbc-text.csv\""
      ],
      "execution_count": 28,
      "outputs": [
        {
          "output_type": "stream",
          "name": "stdout",
          "text": [
            "--2025-02-08 22:08:51--  https://storage.googleapis.com/dataset-uploader/bbc/bbc-text.csv\n",
            "Resolving storage.googleapis.com (storage.googleapis.com)... 108.177.119.207, 108.177.127.207, 172.217.218.207, ...\n",
            "Connecting to storage.googleapis.com (storage.googleapis.com)|108.177.119.207|:443... connected.\n",
            "HTTP request sent, awaiting response... 200 OK\n",
            "Length: 5057493 (4.8M) [text/csv]\n",
            "Saving to: ‘bbc-text.csv.1’\n",
            "\n",
            "bbc-text.csv.1      100%[===================>]   4.82M  6.50MB/s    in 0.7s    \n",
            "\n",
            "2025-02-08 22:08:52 (6.50 MB/s) - ‘bbc-text.csv.1’ saved [5057493/5057493]\n",
            "\n"
          ]
        }
      ]
    },
    {
      "cell_type": "code",
      "metadata": {
        "id": "EYo6A4v5ZABQ"
      },
      "source": [
        "# Here are parameters that you can adjust for this lab.\n",
        "#\n",
        "# Parameters for producing sequences of number-tokens\n",
        "#\n",
        "vocab_size = 1000   # Number of most-common vocabulary words to recognize\n",
        "max_length = 120    # Standardized length (in word-tokens) of one article\n",
        "trunc_type = 'post' # Longer articles are truncated after max_length words\n",
        "padding_type = 'post' # Shorter articles are padded at the right end\n",
        "oov_tok = '<oov> '  # Uncommon words are replaced with this fake-word\n",
        "\n",
        "# For splitting between training and testing\n",
        "training_portion = .8\n",
        "\n",
        "# Size of embedding vectors for neural network processing\n",
        "embedding_dim = 22"
      ],
      "execution_count": 29,
      "outputs": []
    },
    {
      "cell_type": "code",
      "metadata": {
        "id": "77fCI5gx7ZgR",
        "colab": {
          "base_uri": "https://localhost:8080/"
        },
        "outputId": "74322418-c7d5-4704-faf9-abb55bd2c858"
      },
      "source": [
        "#  Function to prepare the text of an article.\n",
        "#  Right now it simply:\n",
        "#    -- makes lower-case\n",
        "#    -- removes extra white-space, mulitple spaces are condensed to single space\n",
        "#\n",
        "#  You can also update the function to return the article with stop words removed\n",
        "#\n",
        "def prepareText(s):\n",
        "  # Lowercase\n",
        "  t = s.lower()\n",
        "  # Split into list of words.  This will eliminate all the white space.\n",
        "  tlist = t.split()\n",
        "  #\n",
        "  # CODE FOR REMOVING STOPWORDS HERE.  Remove comment.\n",
        "  tlist = [w for w in tlist if w not in stopwords]\n",
        "  #\n",
        "  # Then rejoin into a single article string, with a single space between words\n",
        "  t = ' '.join(tlist)\n",
        "  return t\n",
        "\n",
        "#\n",
        "#  Stopwords are very common words, which often do not contribute any\n",
        "#  information to the task at hand. They are often deleted.\n",
        "#  This is a common list of stop words.\n",
        "stopwords = [ \"a\", \"about\", \"above\", \"after\", \"again\", \"against\", \"all\", \"am\", \"an\", \"and\", \"any\", \"are\", \"as\", \"at\", \"be\", \"because\", \"been\", \"before\", \"being\", \"below\", \"between\", \"both\", \"but\", \"by\", \"could\", \"did\", \"do\", \"does\", \"doing\", \"down\", \"during\", \"each\", \"few\", \"for\", \"from\", \"further\", \"had\", \"has\", \"have\", \"having\", \"he\", \"he'd\", \"he'll\", \"he's\", \"her\", \"here\", \"here's\", \"hers\", \"herself\", \"him\", \"himself\", \"his\", \"how\", \"how's\", \"i\", \"i'd\", \"i'll\", \"i'm\", \"i've\", \"if\", \"in\", \"into\", \"is\", \"it\", \"it's\", \"its\", \"itself\", \"let's\", \"me\", \"more\", \"most\", \"my\", \"myself\", \"nor\", \"of\", \"on\", \"once\", \"only\", \"or\", \"other\", \"ought\", \"our\", \"ours\", \"ourselves\", \"out\", \"over\", \"own\", \"same\", \"she\", \"she'd\", \"she'll\", \"she's\", \"should\", \"so\", \"some\", \"such\", \"than\", \"that\", \"that's\", \"the\", \"their\", \"theirs\", \"them\", \"themselves\", \"then\", \"there\", \"there's\", \"these\", \"they\", \"they'd\", \"they'll\", \"they're\", \"they've\", \"this\", \"those\", \"through\", \"to\", \"too\", \"under\", \"until\", \"up\", \"very\", \"was\", \"we\", \"we'd\", \"we'll\", \"we're\", \"we've\", \"were\", \"what\", \"what's\", \"when\", \"when's\", \"where\", \"where's\", \"which\", \"while\", \"who\", \"who's\", \"whom\", \"why\", \"why's\", \"with\", \"would\", \"you\", \"you'd\", \"you'll\", \"you're\", \"you've\", \"your\", \"yours\", \"yourself\", \"yourselves\" ]\n",
        "\n",
        "# Test the prepareText function\n",
        "#\n",
        "testArticle = \"I read it in  The  Times of London\"\n",
        "print(prepareText(testArticle))\n",
        "\n",
        "#   Originally:  I read it in  The  Times of London\n",
        "# Should print:  i read it in the times of london   (with no stopword removal)\n",
        "# Should print:  read times london  (with stopword removal)"
      ],
      "execution_count": 30,
      "outputs": [
        {
          "output_type": "stream",
          "name": "stdout",
          "text": [
            "read times london\n"
          ]
        }
      ]
    },
    {
      "cell_type": "code",
      "metadata": {
        "id": "iU1qq3_SZBx_"
      },
      "source": [
        "# Variables for reading and preparing the text\n",
        "#\n",
        "# One article is stored as the text of a whole BBC article as a single string.\n",
        "#\n",
        "articles = []           # List of articles in original form.\n",
        "articlesPrepared = []   # Articles with texts prepared for tokenization\n",
        "#\n",
        "#  Each article has a label like \"business\", \"sport\", \"tech\" etc.\n",
        "labels = []\n",
        "\n"
      ],
      "execution_count": 31,
      "outputs": []
    },
    {
      "cell_type": "code",
      "metadata": {
        "id": "eutB2xMiZD0e",
        "colab": {
          "base_uri": "https://localhost:8080/"
        },
        "outputId": "cf9784e9-4429-43d2-d42b-6d89ad78ae63"
      },
      "source": [
        "# The BBC data is in a CSV spreadsheet file, one article in each spreadsheet row.\n",
        "# The two spreadsheet column headings of interest are 'text' and 'category'\n",
        "#\n",
        "# Read the spreadsheet and make three lists, with one entry for each article.\n",
        "#\n",
        "with open(path_bbc, 'r') as csvfile:\n",
        "    csv_reader = csv.DictReader(csvfile)\n",
        "    for item in csv_reader:\n",
        "        articles.append(item['text'])  # Article text\n",
        "        articlesPrepared.append(prepareText(item['text'])) # Prepared version\n",
        "        labels.append(item['category'])  # Article category label\n",
        "\n",
        "# Print the label and the texts of the first few articles\n",
        "for i in range(3):\n",
        "  print(labels[i])\n",
        "  print(articles[i])\n",
        "  print(articlesPrepared[i])\n",
        "  print()\n"
      ],
      "execution_count": 32,
      "outputs": [
        {
          "output_type": "stream",
          "name": "stdout",
          "text": [
            "tech\n",
            "tv future in the hands of viewers with home theatre systems  plasma high-definition tvs  and digital video recorders moving into the living room  the way people watch tv will be radically different in five years  time.  that is according to an expert panel which gathered at the annual consumer electronics show in las vegas to discuss how these new technologies will impact one of our favourite pastimes. with the us leading the trend  programmes and other content will be delivered to viewers via home networks  through cable  satellite  telecoms companies  and broadband service providers to front rooms and portable devices.  one of the most talked-about technologies of ces has been digital and personal video recorders (dvr and pvr). these set-top boxes  like the us s tivo and the uk s sky+ system  allow people to record  store  play  pause and forward wind tv programmes when they want.  essentially  the technology allows for much more personalised tv. they are also being built-in to high-definition tv sets  which are big business in japan and the us  but slower to take off in europe because of the lack of high-definition programming. not only can people forward wind through adverts  they can also forget about abiding by network and channel schedules  putting together their own a-la-carte entertainment. but some us networks and cable and satellite companies are worried about what it means for them in terms of advertising revenues as well as  brand identity  and viewer loyalty to channels. although the us leads in this technology at the moment  it is also a concern that is being raised in europe  particularly with the growing uptake of services like sky+.  what happens here today  we will see in nine months to a years  time in the uk   adam hume  the bbc broadcast s futurologist told the bbc news website. for the likes of the bbc  there are no issues of lost advertising revenue yet. it is a more pressing issue at the moment for commercial uk broadcasters  but brand loyalty is important for everyone.  we will be talking more about content brands rather than network brands   said tim hanlon  from brand communications firm starcom mediavest.  the reality is that with broadband connections  anybody can be the producer of content.  he added:  the challenge now is that it is hard to promote a programme with so much choice.   what this means  said stacey jolna  senior vice president of tv guide tv group  is that the way people find the content they want to watch has to be simplified for tv viewers. it means that networks  in us terms  or channels could take a leaf out of google s book and be the search engine of the future  instead of the scheduler to help people find what they want to watch. this kind of channel model might work for the younger ipod generation which is used to taking control of their gadgets and what they play on them. but it might not suit everyone  the panel recognised. older generations are more comfortable with familiar schedules and channel brands because they know what they are getting. they perhaps do not want so much of the choice put into their hands  mr hanlon suggested.  on the other end  you have the kids just out of diapers who are pushing buttons already - everything is possible and available to them   said mr hanlon.  ultimately  the consumer will tell the market they want.   of the 50 000 new gadgets and technologies being showcased at ces  many of them are about enhancing the tv-watching experience. high-definition tv sets are everywhere and many new models of lcd (liquid crystal display) tvs have been launched with dvr capability built into them  instead of being external boxes. one such example launched at the show is humax s 26-inch lcd tv with an 80-hour tivo dvr and dvd recorder. one of the us s biggest satellite tv companies  directtv  has even launched its own branded dvr at the show with 100-hours of recording capability  instant replay  and a search function. the set can pause and rewind tv for up to 90 hours. and microsoft chief bill gates announced in his pre-show keynote speech a partnership with tivo  called tivotogo  which means people can play recorded programmes on windows pcs and mobile devices. all these reflect the increasing trend of freeing up multimedia so that people can watch what they want  when they want.\n",
            "tv future hands viewers home theatre systems plasma high-definition tvs digital video recorders moving living room way people watch tv will radically different five years time. according expert panel gathered annual consumer electronics show las vegas discuss new technologies will impact one favourite pastimes. us leading trend programmes content will delivered viewers via home networks cable satellite telecoms companies broadband service providers front rooms portable devices. one talked-about technologies ces digital personal video recorders (dvr pvr). set-top boxes like us s tivo uk s sky+ system allow people record store play pause forward wind tv programmes want. essentially technology allows much personalised tv. also built-in high-definition tv sets big business japan us slower take off europe lack high-definition programming. not can people forward wind adverts can also forget abiding network channel schedules putting together a-la-carte entertainment. us networks cable satellite companies worried means terms advertising revenues well brand identity viewer loyalty channels. although us leads technology moment also concern raised europe particularly growing uptake services like sky+. happens today will see nine months years time uk adam hume bbc broadcast s futurologist told bbc news website. likes bbc no issues lost advertising revenue yet. pressing issue moment commercial uk broadcasters brand loyalty important everyone. will talking content brands rather network brands said tim hanlon brand communications firm starcom mediavest. reality broadband connections anybody can producer content. added: challenge now hard promote programme much choice. means said stacey jolna senior vice president tv guide tv group way people find content want watch simplified tv viewers. means networks us terms channels take leaf google s book search engine future instead scheduler help people find want watch. kind channel model might work younger ipod generation used taking control gadgets play them. might not suit everyone panel recognised. older generations comfortable familiar schedules channel brands know getting. perhaps not want much choice put hands mr hanlon suggested. end kids just diapers pushing buttons already - everything possible available said mr hanlon. ultimately consumer will tell market want. 50 000 new gadgets technologies showcased ces many enhancing tv-watching experience. high-definition tv sets everywhere many new models lcd (liquid crystal display) tvs launched dvr capability built instead external boxes. one example launched show humax s 26-inch lcd tv 80-hour tivo dvr dvd recorder. one us s biggest satellite tv companies directtv even launched branded dvr show 100-hours recording capability instant replay search function. set can pause rewind tv 90 hours. microsoft chief bill gates announced pre-show keynote speech partnership tivo called tivotogo means people can play recorded programmes windows pcs mobile devices. reflect increasing trend freeing multimedia people can watch want want.\n",
            "\n",
            "business\n",
            "worldcom boss  left books alone  former worldcom boss bernie ebbers  who is accused of overseeing an $11bn (£5.8bn) fraud  never made accounting decisions  a witness has told jurors.  david myers made the comments under questioning by defence lawyers who have been arguing that mr ebbers was not responsible for worldcom s problems. the phone company collapsed in 2002 and prosecutors claim that losses were hidden to protect the firm s shares. mr myers has already pleaded guilty to fraud and is assisting prosecutors.  on monday  defence lawyer reid weingarten tried to distance his client from the allegations. during cross examination  he asked mr myers if he ever knew mr ebbers  make an accounting decision  .  not that i am aware of   mr myers replied.  did you ever know mr ebbers to make an accounting entry into worldcom books   mr weingarten pressed.  no   replied the witness. mr myers has admitted that he ordered false accounting entries at the request of former worldcom chief financial officer scott sullivan. defence lawyers have been trying to paint mr sullivan  who has admitted fraud and will testify later in the trial  as the mastermind behind worldcom s accounting house of cards.  mr ebbers  team  meanwhile  are looking to portray him as an affable boss  who by his own admission is more pe graduate than economist. whatever his abilities  mr ebbers transformed worldcom from a relative unknown into a $160bn telecoms giant and investor darling of the late 1990s. worldcom s problems mounted  however  as competition increased and the telecoms boom petered out. when the firm finally collapsed  shareholders lost about $180bn and 20 000 workers lost their jobs. mr ebbers  trial is expected to last two months and if found guilty the former ceo faces a substantial jail sentence. he has firmly declared his innocence.\n",
            "worldcom boss left books alone former worldcom boss bernie ebbers accused overseeing $11bn (£5.8bn) fraud never made accounting decisions witness told jurors. david myers made comments questioning defence lawyers arguing mr ebbers not responsible worldcom s problems. phone company collapsed 2002 prosecutors claim losses hidden protect firm s shares. mr myers already pleaded guilty fraud assisting prosecutors. monday defence lawyer reid weingarten tried distance client allegations. cross examination asked mr myers ever knew mr ebbers make accounting decision . not aware mr myers replied. ever know mr ebbers make accounting entry worldcom books mr weingarten pressed. no replied witness. mr myers admitted ordered false accounting entries request former worldcom chief financial officer scott sullivan. defence lawyers trying paint mr sullivan admitted fraud will testify later trial mastermind behind worldcom s accounting house cards. mr ebbers team meanwhile looking portray affable boss admission pe graduate economist. whatever abilities mr ebbers transformed worldcom relative unknown $160bn telecoms giant investor darling late 1990s. worldcom s problems mounted however competition increased telecoms boom petered out. firm finally collapsed shareholders lost $180bn 20 000 workers lost jobs. mr ebbers trial expected last two months found guilty former ceo faces substantial jail sentence. firmly declared innocence.\n",
            "\n",
            "sport\n",
            "tigers wary of farrell  gamble  leicester say they will not be rushed into making a bid for andy farrell should the great britain rugby league captain decide to switch codes.   we and anybody else involved in the process are still some way away from going to the next stage   tigers boss john wells told bbc radio leicester.  at the moment  there are still a lot of unknowns about andy farrell  not least his medical situation.  whoever does take him on is going to take a big  big gamble.  farrell  who has had persistent knee problems  had an operation on his knee five weeks ago and is expected to be out for another three months. leicester and saracens are believed to head the list of rugby union clubs interested in signing farrell if he decides to move to the 15-man game.  if he does move across to union  wells believes he would better off playing in the backs  at least initially.  i m sure he could make the step between league and union by being involved in the centre   said wells.  i think england would prefer him to progress to a position in the back row where they can make use of some of his rugby league skills within the forwards.  the jury is out on whether he can cross that divide.  at this club  the balance will have to be struck between the cost of that gamble and the option of bringing in a ready-made replacement.\n",
            "tigers wary farrell gamble leicester say will not rushed making bid andy farrell great britain rugby league captain decide switch codes. anybody else involved process still way away going next stage tigers boss john wells told bbc radio leicester. moment still lot unknowns andy farrell not least medical situation. whoever take going take big big gamble. farrell persistent knee problems operation knee five weeks ago expected another three months. leicester saracens believed head list rugby union clubs interested signing farrell decides move 15-man game. move across union wells believes better off playing backs least initially. m sure make step league union involved centre said wells. think england prefer progress position back row can make use rugby league skills within forwards. jury whether can cross divide. club balance will struck cost gamble option bringing ready-made replacement.\n",
            "\n"
          ]
        }
      ]
    },
    {
      "cell_type": "code",
      "metadata": {
        "id": "XfdaWh06ZGe3",
        "colab": {
          "base_uri": "https://localhost:8080/"
        },
        "outputId": "cbe74e6a-3b38-40a7-8b33-747a9b9986bc"
      },
      "source": [
        "# Now split into training and validation sets\n",
        "# Use the training_portion variable.\n",
        "#\n",
        "train_size =  int(len(articles) * training_portion)\n",
        "\n",
        "\n",
        "train_articles = articles[:train_size]\n",
        "train_articles = articlesPrepared[:train_size]\n",
        "train_labels = labels[:train_size]\n",
        "\n",
        "validation_articles =  articles[train_size:]\n",
        "validation_labels =  labels[train_size:]\n",
        "\n",
        "print(train_size)\n",
        "print(len(train_articles))\n",
        "print(len(train_labels))\n",
        "print(len(validation_articles))\n",
        "print(len(validation_labels))\n",
        "\n",
        "# Expected output (if training_portion=0.8)\n",
        "# 1780\n",
        "# 1780\n",
        "# 1780\n",
        "# 445\n",
        "# 445"
      ],
      "execution_count": 33,
      "outputs": [
        {
          "output_type": "stream",
          "name": "stdout",
          "text": [
            "1780\n",
            "1780\n",
            "1780\n",
            "445\n",
            "445\n"
          ]
        }
      ]
    },
    {
      "cell_type": "code",
      "metadata": {
        "id": "ULzA8xhwZI22",
        "colab": {
          "base_uri": "https://localhost:8080/"
        },
        "outputId": "9ad9cbc4-9b28-402d-92b4-fd273a775b8f"
      },
      "source": [
        "# The training articles: tokenize and turn into sequences of word-tokens\n",
        "#\n",
        "# Make a tokenizer object.\n",
        "#   It will utilize the vocab_size most common words\n",
        "#   The less common words will be repleaced with the oov_tok fake word\n",
        "#\n",
        "tokenizer =  Tokenizer(num_words = vocab_size, oov_token=oov_tok)\n",
        "#\n",
        "#  Use your training articles to 'fit' the tokenizer. It will count all the words,\n",
        "#  assign numbers to the most common words.\n",
        "#\n",
        "tokenizer.fit_on_texts(train_articles)\n",
        "word_index = tokenizer.word_index\n",
        "\n",
        "# Convert your training articles to sequences of number-tokens.\n",
        "# Then standardize the length of the sequences, truncating or padding as needed\n",
        "train_sequences = tokenizer.texts_to_sequences(train_articles)\n",
        "train_padded = pad_sequences(train_sequences, maxlen=max_length, padding='post', truncating='post')\n",
        "\n",
        "print(len(train_sequences[0]))\n",
        "\n",
        "print(len(train_padded[0]))\n",
        "\n",
        "print(len(train_sequences[1]))\n",
        "print(len(train_padded[1]))\n",
        "\n",
        "print(len(train_sequences[10]))\n",
        "print(len(train_padded[10]))\n",
        "\n",
        "# Expected Ouput (assuming training_portion = 0.8)\n",
        "# 449\n",
        "# 120\n",
        "# 200\n",
        "# 120\n",
        "# 192\n",
        "# 120"
      ],
      "execution_count": 34,
      "outputs": [
        {
          "output_type": "stream",
          "name": "stdout",
          "text": [
            "449\n",
            "120\n",
            "200\n",
            "120\n",
            "192\n",
            "120\n"
          ]
        }
      ]
    },
    {
      "cell_type": "code",
      "metadata": {
        "id": "c8PeFWzPZLW_",
        "colab": {
          "base_uri": "https://localhost:8080/"
        },
        "outputId": "8b056f1c-3ca8-4514-d453-4ee1f582c47f"
      },
      "source": [
        "# Now do the same for the validation articles: tokenize and turn into sequences\n",
        "#\n",
        "validation_sequences =  tokenizer.texts_to_sequences(validation_articles)\n",
        "validation_padded =  pad_sequences(validation_sequences, maxlen=max_length, padding='post', truncating='post')\n",
        "\n",
        "print(len(validation_sequences))\n",
        "print(validation_padded.shape)\n",
        "\n",
        "# Expected output\n",
        "# 445\n",
        "# (445, 120)"
      ],
      "execution_count": 35,
      "outputs": [
        {
          "output_type": "stream",
          "name": "stdout",
          "text": [
            "445\n",
            "(445, 120)\n"
          ]
        }
      ]
    },
    {
      "cell_type": "code",
      "metadata": {
        "id": "w7Xc-uWxXhML",
        "colab": {
          "base_uri": "https://localhost:8080/"
        },
        "outputId": "23c83987-240a-48b2-95a4-4f46749e9758"
      },
      "source": [
        "#  Here you can decode and print the sequences back into article texts.\n",
        "#  Try it for a few sentences.\n",
        "#\n",
        "reverse_word_index = dict([(value, key) for (key, value) in word_index.items()])\n",
        "\n",
        "def decode_sentence(text):\n",
        "    return ' '.join([reverse_word_index.get(i, '?') for i in text])\n",
        "\n",
        "print(train_articles[0])   # Try several different articles, not only 0\n",
        "print(decode_sentence(train_sequences[0]))\n",
        "\n",
        "#expected decoded ouput, assuming stopword removal\n",
        "# tv future hands viewers home theatre systems plasma high-definition tvs digital video\n",
        "# tv future <oov>  <oov>  home theatre systems <oov>  high <oov>  <oov>  digital video"
      ],
      "execution_count": 36,
      "outputs": [
        {
          "output_type": "stream",
          "name": "stdout",
          "text": [
            "tv future hands viewers home theatre systems plasma high-definition tvs digital video recorders moving living room way people watch tv will radically different five years time. according expert panel gathered annual consumer electronics show las vegas discuss new technologies will impact one favourite pastimes. us leading trend programmes content will delivered viewers via home networks cable satellite telecoms companies broadband service providers front rooms portable devices. one talked-about technologies ces digital personal video recorders (dvr pvr). set-top boxes like us s tivo uk s sky+ system allow people record store play pause forward wind tv programmes want. essentially technology allows much personalised tv. also built-in high-definition tv sets big business japan us slower take off europe lack high-definition programming. not can people forward wind adverts can also forget abiding network channel schedules putting together a-la-carte entertainment. us networks cable satellite companies worried means terms advertising revenues well brand identity viewer loyalty channels. although us leads technology moment also concern raised europe particularly growing uptake services like sky+. happens today will see nine months years time uk adam hume bbc broadcast s futurologist told bbc news website. likes bbc no issues lost advertising revenue yet. pressing issue moment commercial uk broadcasters brand loyalty important everyone. will talking content brands rather network brands said tim hanlon brand communications firm starcom mediavest. reality broadband connections anybody can producer content. added: challenge now hard promote programme much choice. means said stacey jolna senior vice president tv guide tv group way people find content want watch simplified tv viewers. means networks us terms channels take leaf google s book search engine future instead scheduler help people find want watch. kind channel model might work younger ipod generation used taking control gadgets play them. might not suit everyone panel recognised. older generations comfortable familiar schedules channel brands know getting. perhaps not want much choice put hands mr hanlon suggested. end kids just diapers pushing buttons already - everything possible available said mr hanlon. ultimately consumer will tell market want. 50 000 new gadgets technologies showcased ces many enhancing tv-watching experience. high-definition tv sets everywhere many new models lcd (liquid crystal display) tvs launched dvr capability built instead external boxes. one example launched show humax s 26-inch lcd tv 80-hour tivo dvr dvd recorder. one us s biggest satellite tv companies directtv even launched branded dvr show 100-hours recording capability instant replay search function. set can pause rewind tv 90 hours. microsoft chief bill gates announced pre-show keynote speech partnership tivo called tivotogo means people can play recorded programmes windows pcs mobile devices. reflect increasing trend freeing multimedia people can watch want want.\n",
            "tv future <oov>  <oov>  home theatre systems <oov>  high <oov>  <oov>  digital video <oov>  <oov>  <oov>  <oov>  way people watch tv will <oov>  different five years time according <oov>  <oov>  <oov>  annual consumer <oov>  show <oov>  <oov>  <oov>  new technologies will impact one favourite <oov>  us leading <oov>  <oov>  content will <oov>  <oov>  via home networks <oov>  <oov>  <oov>  companies broadband service <oov>  front <oov>  portable devices one <oov>  <oov>  technologies <oov>  digital personal video <oov>  <oov>  <oov>  set top <oov>  like us s <oov>  uk s <oov>  system allow people record <oov>  play <oov>  forward <oov>  tv <oov>  want <oov>  technology <oov>  much <oov>  tv also <oov>  in high <oov>  tv <oov>  big business japan us <oov>  take off europe <oov>  high <oov>  <oov>  not can people forward <oov>  <oov>  can also <oov>  <oov>  network <oov>  <oov>  <oov>  together <oov>  <oov>  <oov>  entertainment us networks <oov>  <oov>  companies <oov>  means terms <oov>  <oov>  well <oov>  <oov>  <oov>  <oov>  <oov>  although us <oov>  technology moment also <oov>  <oov>  europe particularly growing <oov>  services like <oov>  <oov>  today will see nine months years time uk <oov>  <oov>  bbc <oov>  s <oov>  told bbc news website <oov>  bbc no issues lost <oov>  <oov>  yet <oov>  issue moment <oov>  uk <oov>  <oov>  <oov>  important everyone will <oov>  content <oov>  rather network <oov>  said <oov>  <oov>  <oov>  <oov>  firm <oov>  <oov>  <oov>  broadband <oov>  <oov>  can <oov>  content added challenge now hard <oov>  programme much choice means said <oov>  <oov>  senior <oov>  president tv <oov>  tv group way people find content want watch <oov>  tv <oov>  means networks us terms <oov>  take <oov>  <oov>  s book search <oov>  future instead <oov>  help people find want watch <oov>  <oov>  <oov>  might work <oov>  <oov>  generation used taking control <oov>  play them might not <oov>  everyone <oov>  <oov>  <oov>  <oov>  <oov>  <oov>  <oov>  <oov>  <oov>  know getting <oov>  not want much choice put <oov>  mr <oov>  <oov>  end <oov>  just <oov>  <oov>  <oov>  already everything possible available said mr <oov>  <oov>  consumer will <oov>  market want 50 000 new <oov>  technologies <oov>  <oov>  many <oov>  tv <oov>  experience high <oov>  tv <oov>  <oov>  many new <oov>  <oov>  <oov>  <oov>  <oov>  <oov>  launched <oov>  <oov>  <oov>  instead <oov>  <oov>  one example launched show <oov>  s <oov>  <oov>  <oov>  tv <oov>  hour <oov>  <oov>  dvd <oov>  one us s biggest <oov>  tv companies <oov>  even launched <oov>  <oov>  show 100 hours <oov>  <oov>  <oov>  <oov>  search <oov>  set can <oov>  <oov>  tv <oov>  hours microsoft chief bill <oov>  announced pre show <oov>  speech <oov>  <oov>  called <oov>  means people can play <oov>  <oov>  windows pcs mobile devices <oov>  <oov>  <oov>  <oov>  <oov>  people can watch want want\n"
          ]
        }
      ]
    },
    {
      "cell_type": "code",
      "metadata": {
        "id": "XkWiQ_FKZNp2",
        "colab": {
          "base_uri": "https://localhost:8080/"
        },
        "outputId": "91b9aac6-809d-44a7-a85b-c3d1234833f5"
      },
      "source": [
        "#  Here we convert the category words to numbers.\n",
        "#  \"sport\" will become 1, \"business\" will become 2, etc.\n",
        "#\n",
        "#  We can use the tokenizer as a kind of programming trick.\n",
        "#  We will 'fit' the tokenizer on the labels, each label is effectively a one-word sentence.\n",
        "#  So each category word will be assigned a number-token, the label will become a single number.\n",
        "#\n",
        "# First make a Tokenizer object and fit it.\n",
        "label_tokenizer = Tokenizer()\n",
        "label_tokenizer.fit_on_texts(labels)\n",
        "\n",
        "print(label_tokenizer.word_index)\n",
        "# Should print:\n",
        "#   {'sport': 1, 'business': 2, 'politics': 3, 'tech': 4, 'entertainment': 5}\n",
        "\n",
        "# Convert the training and validation labels into number-tokens.\n",
        "# Then use np.array() to make 1-dimensional np arrays\n",
        "training_label_seq = np.array(label_tokenizer.texts_to_sequences(train_labels))\n",
        "validation_label_seq = np.array(label_tokenizer.texts_to_sequences(validation_labels))\n",
        "\n",
        "print(training_label_seq[0])\n",
        "print(training_label_seq[1])\n",
        "print(training_label_seq[2])\n",
        "print(training_label_seq.shape)\n",
        "\n",
        "print(validation_label_seq[0])\n",
        "print(validation_label_seq[1])\n",
        "print(validation_label_seq[2])\n",
        "print(validation_label_seq.shape)\n",
        "\n",
        "# Expected output\n",
        "# [4]\n",
        "# [2]\n",
        "# [1]\n",
        "# (1780, 1)\n",
        "# [5]\n",
        "# [4]\n",
        "# [3]\n",
        "# (445, 1)"
      ],
      "execution_count": 37,
      "outputs": [
        {
          "output_type": "stream",
          "name": "stdout",
          "text": [
            "{'sport': 1, 'business': 2, 'politics': 3, 'tech': 4, 'entertainment': 5}\n",
            "[4]\n",
            "[2]\n",
            "[1]\n",
            "(1780, 1)\n",
            "[5]\n",
            "[4]\n",
            "[3]\n",
            "(445, 1)\n"
          ]
        }
      ]
    },
    {
      "cell_type": "code",
      "metadata": {
        "id": "HZ5um4MWZP-W",
        "colab": {
          "base_uri": "https://localhost:8080/",
          "height": 265
        },
        "outputId": "9f6a0de0-899e-4e06-b7ba-cae172cee23b"
      },
      "source": [
        "# Neural network!  Four layers.\n",
        "#\n",
        "#  First is an Embedding layer, which converts each number-token into a vector\n",
        "#  The output of the embedding layer is one vector for each word, so if each\n",
        "#  input sequence has 50 words (50 numbers-tokens) and the embedding dimension is 15,\n",
        "#  the output is a 2D tensor 50 x 15.\n",
        "#\n",
        "#  The next layer will either:\n",
        "#    a) Flatten the 2D tensor to 1-dimension, e.g. 750 numbers\n",
        "#    b) Average up the each dimension using GlobalAveragePooling1D.\n",
        "#       This will produce single vector representing an\n",
        "#       embedding of the average word, e.g. 15 numbers\n",
        "#\n",
        "#  Then comes a hidden layer, densely connected.\n",
        "#\n",
        "#  Finally a softmax output layer, one neuron for each label/category number.\n",
        "#  Output layer is six instead of five, as we are not using category number 0.\n",
        "#\n",
        "model = tf.keras.Sequential([\n",
        "    tf.keras.layers.Embedding(vocab_size, embedding_dim, input_length=max_length),\n",
        "    #tf.keras.layers.GlobalAveragePooling1D(),    # YOUR CODE HERE: uncomment to\n",
        "    tf.keras.layers.Flatten(),                   #  pick Flatten() or GlobalAveragePooling1D()\n",
        "    tf.keras.layers.Dense(24, activation='relu'),\n",
        "    tf.keras.layers.Dense(6, activation='softmax')\n",
        "])\n",
        "model.compile(loss='sparse_categorical_crossentropy',optimizer='adam',metrics=['accuracy'])\n",
        "model.summary()\n",
        "\n",
        "# Expected summary output with:\n",
        "#    120-word sequences and 16-number embedding vectors\n",
        "#    using GlobalAveragePooling for the 2nd layer\n",
        "#\n",
        "# Layer (type)                 Output Shape              Param #\n",
        "# =================================================================\n",
        "# embedding (Embedding)        (None, 120, 16)           16000\n",
        "# _________________________________________________________________\n",
        "# global_average_pooling1d (Gl (None, 16)                0\n",
        "# _________________________________________________________________\n",
        "# dense (Dense)                (None, 24)                408\n",
        "# _________________________________________________________________\n",
        "# dense_1 (Dense)              (None, 6)                 150\n",
        "# =================================================================\n",
        "# Total params: 16,558\n",
        "# Trainable params: 16,558\n",
        "# Non-trainable params: 0"
      ],
      "execution_count": 38,
      "outputs": [
        {
          "output_type": "display_data",
          "data": {
            "text/plain": [
              "\u001b[1mModel: \"sequential_1\"\u001b[0m\n"
            ],
            "text/html": [
              "<pre style=\"white-space:pre;overflow-x:auto;line-height:normal;font-family:Menlo,'DejaVu Sans Mono',consolas,'Courier New',monospace\"><span style=\"font-weight: bold\">Model: \"sequential_1\"</span>\n",
              "</pre>\n"
            ]
          },
          "metadata": {}
        },
        {
          "output_type": "display_data",
          "data": {
            "text/plain": [
              "┏━━━━━━━━━━━━━━━━━━━━━━━━━━━━━━━━━━━━━━┳━━━━━━━━━━━━━━━━━━━━━━━━━━━━━┳━━━━━━━━━━━━━━━━━┓\n",
              "┃\u001b[1m \u001b[0m\u001b[1mLayer (type)                        \u001b[0m\u001b[1m \u001b[0m┃\u001b[1m \u001b[0m\u001b[1mOutput Shape               \u001b[0m\u001b[1m \u001b[0m┃\u001b[1m \u001b[0m\u001b[1m        Param #\u001b[0m\u001b[1m \u001b[0m┃\n",
              "┡━━━━━━━━━━━━━━━━━━━━━━━━━━━━━━━━━━━━━━╇━━━━━━━━━━━━━━━━━━━━━━━━━━━━━╇━━━━━━━━━━━━━━━━━┩\n",
              "│ embedding_1 (\u001b[38;5;33mEmbedding\u001b[0m)              │ ?                           │     \u001b[38;5;34m0\u001b[0m (unbuilt) │\n",
              "├──────────────────────────────────────┼─────────────────────────────┼─────────────────┤\n",
              "│ flatten (\u001b[38;5;33mFlatten\u001b[0m)                    │ ?                           │     \u001b[38;5;34m0\u001b[0m (unbuilt) │\n",
              "├──────────────────────────────────────┼─────────────────────────────┼─────────────────┤\n",
              "│ dense_2 (\u001b[38;5;33mDense\u001b[0m)                      │ ?                           │     \u001b[38;5;34m0\u001b[0m (unbuilt) │\n",
              "├──────────────────────────────────────┼─────────────────────────────┼─────────────────┤\n",
              "│ dense_3 (\u001b[38;5;33mDense\u001b[0m)                      │ ?                           │     \u001b[38;5;34m0\u001b[0m (unbuilt) │\n",
              "└──────────────────────────────────────┴─────────────────────────────┴─────────────────┘\n"
            ],
            "text/html": [
              "<pre style=\"white-space:pre;overflow-x:auto;line-height:normal;font-family:Menlo,'DejaVu Sans Mono',consolas,'Courier New',monospace\">┏━━━━━━━━━━━━━━━━━━━━━━━━━━━━━━━━━━━━━━┳━━━━━━━━━━━━━━━━━━━━━━━━━━━━━┳━━━━━━━━━━━━━━━━━┓\n",
              "┃<span style=\"font-weight: bold\"> Layer (type)                         </span>┃<span style=\"font-weight: bold\"> Output Shape                </span>┃<span style=\"font-weight: bold\">         Param # </span>┃\n",
              "┡━━━━━━━━━━━━━━━━━━━━━━━━━━━━━━━━━━━━━━╇━━━━━━━━━━━━━━━━━━━━━━━━━━━━━╇━━━━━━━━━━━━━━━━━┩\n",
              "│ embedding_1 (<span style=\"color: #0087ff; text-decoration-color: #0087ff\">Embedding</span>)              │ ?                           │     <span style=\"color: #00af00; text-decoration-color: #00af00\">0</span> (unbuilt) │\n",
              "├──────────────────────────────────────┼─────────────────────────────┼─────────────────┤\n",
              "│ flatten (<span style=\"color: #0087ff; text-decoration-color: #0087ff\">Flatten</span>)                    │ ?                           │     <span style=\"color: #00af00; text-decoration-color: #00af00\">0</span> (unbuilt) │\n",
              "├──────────────────────────────────────┼─────────────────────────────┼─────────────────┤\n",
              "│ dense_2 (<span style=\"color: #0087ff; text-decoration-color: #0087ff\">Dense</span>)                      │ ?                           │     <span style=\"color: #00af00; text-decoration-color: #00af00\">0</span> (unbuilt) │\n",
              "├──────────────────────────────────────┼─────────────────────────────┼─────────────────┤\n",
              "│ dense_3 (<span style=\"color: #0087ff; text-decoration-color: #0087ff\">Dense</span>)                      │ ?                           │     <span style=\"color: #00af00; text-decoration-color: #00af00\">0</span> (unbuilt) │\n",
              "└──────────────────────────────────────┴─────────────────────────────┴─────────────────┘\n",
              "</pre>\n"
            ]
          },
          "metadata": {}
        },
        {
          "output_type": "display_data",
          "data": {
            "text/plain": [
              "\u001b[1m Total params: \u001b[0m\u001b[38;5;34m0\u001b[0m (0.00 B)\n"
            ],
            "text/html": [
              "<pre style=\"white-space:pre;overflow-x:auto;line-height:normal;font-family:Menlo,'DejaVu Sans Mono',consolas,'Courier New',monospace\"><span style=\"font-weight: bold\"> Total params: </span><span style=\"color: #00af00; text-decoration-color: #00af00\">0</span> (0.00 B)\n",
              "</pre>\n"
            ]
          },
          "metadata": {}
        },
        {
          "output_type": "display_data",
          "data": {
            "text/plain": [
              "\u001b[1m Trainable params: \u001b[0m\u001b[38;5;34m0\u001b[0m (0.00 B)\n"
            ],
            "text/html": [
              "<pre style=\"white-space:pre;overflow-x:auto;line-height:normal;font-family:Menlo,'DejaVu Sans Mono',consolas,'Courier New',monospace\"><span style=\"font-weight: bold\"> Trainable params: </span><span style=\"color: #00af00; text-decoration-color: #00af00\">0</span> (0.00 B)\n",
              "</pre>\n"
            ]
          },
          "metadata": {}
        },
        {
          "output_type": "display_data",
          "data": {
            "text/plain": [
              "\u001b[1m Non-trainable params: \u001b[0m\u001b[38;5;34m0\u001b[0m (0.00 B)\n"
            ],
            "text/html": [
              "<pre style=\"white-space:pre;overflow-x:auto;line-height:normal;font-family:Menlo,'DejaVu Sans Mono',consolas,'Courier New',monospace\"><span style=\"font-weight: bold\"> Non-trainable params: </span><span style=\"color: #00af00; text-decoration-color: #00af00\">0</span> (0.00 B)\n",
              "</pre>\n"
            ]
          },
          "metadata": {}
        }
      ]
    },
    {
      "cell_type": "code",
      "metadata": {
        "id": "XsfdxySKZSXu",
        "scrolled": true,
        "colab": {
          "base_uri": "https://localhost:8080/"
        },
        "outputId": "f942d560-a8a7-4837-88b8-164a87afd64b"
      },
      "source": [
        "## Time to train and validate the neural network classifier, using model.fit()\n",
        "#\n",
        "# The validation data is tested after each training epoch. (We don't wait until training is done in order to test.)\n",
        "#\n",
        "num_epochs = 25\n",
        "history = model.fit(train_padded, training_label_seq, epochs=num_epochs, validation_data=(validation_padded, validation_label_seq))"
      ],
      "execution_count": 39,
      "outputs": [
        {
          "output_type": "stream",
          "name": "stdout",
          "text": [
            "Epoch 1/25\n",
            "\u001b[1m56/56\u001b[0m \u001b[32m━━━━━━━━━━━━━━━━━━━━\u001b[0m\u001b[37m\u001b[0m \u001b[1m4s\u001b[0m 28ms/step - accuracy: 0.2333 - loss: 1.7307 - val_accuracy: 0.1685 - val_loss: 1.6127\n",
            "Epoch 2/25\n",
            "\u001b[1m56/56\u001b[0m \u001b[32m━━━━━━━━━━━━━━━━━━━━\u001b[0m\u001b[37m\u001b[0m \u001b[1m0s\u001b[0m 3ms/step - accuracy: 0.4613 - loss: 1.3998 - val_accuracy: 0.5685 - val_loss: 1.2559\n",
            "Epoch 3/25\n",
            "\u001b[1m56/56\u001b[0m \u001b[32m━━━━━━━━━━━━━━━━━━━━\u001b[0m\u001b[37m\u001b[0m \u001b[1m0s\u001b[0m 4ms/step - accuracy: 0.8643 - loss: 0.7141 - val_accuracy: 0.7663 - val_loss: 0.8123\n",
            "Epoch 4/25\n",
            "\u001b[1m56/56\u001b[0m \u001b[32m━━━━━━━━━━━━━━━━━━━━\u001b[0m\u001b[37m\u001b[0m \u001b[1m0s\u001b[0m 4ms/step - accuracy: 0.9684 - loss: 0.2304 - val_accuracy: 0.7708 - val_loss: 0.6552\n",
            "Epoch 5/25\n",
            "\u001b[1m56/56\u001b[0m \u001b[32m━━━━━━━━━━━━━━━━━━━━\u001b[0m\u001b[37m\u001b[0m \u001b[1m0s\u001b[0m 3ms/step - accuracy: 0.9847 - loss: 0.1143 - val_accuracy: 0.7865 - val_loss: 0.5934\n",
            "Epoch 6/25\n",
            "\u001b[1m56/56\u001b[0m \u001b[32m━━━━━━━━━━━━━━━━━━━━\u001b[0m\u001b[37m\u001b[0m \u001b[1m0s\u001b[0m 4ms/step - accuracy: 0.9983 - loss: 0.0556 - val_accuracy: 0.8180 - val_loss: 0.5170\n",
            "Epoch 7/25\n",
            "\u001b[1m56/56\u001b[0m \u001b[32m━━━━━━━━━━━━━━━━━━━━\u001b[0m\u001b[37m\u001b[0m \u001b[1m0s\u001b[0m 4ms/step - accuracy: 0.9986 - loss: 0.0365 - val_accuracy: 0.8315 - val_loss: 0.5218\n",
            "Epoch 8/25\n",
            "\u001b[1m56/56\u001b[0m \u001b[32m━━━━━━━━━━━━━━━━━━━━\u001b[0m\u001b[37m\u001b[0m \u001b[1m0s\u001b[0m 3ms/step - accuracy: 1.0000 - loss: 0.0227 - val_accuracy: 0.7955 - val_loss: 0.5487\n",
            "Epoch 9/25\n",
            "\u001b[1m56/56\u001b[0m \u001b[32m━━━━━━━━━━━━━━━━━━━━\u001b[0m\u001b[37m\u001b[0m \u001b[1m0s\u001b[0m 4ms/step - accuracy: 1.0000 - loss: 0.0143 - val_accuracy: 0.8112 - val_loss: 0.5553\n",
            "Epoch 10/25\n",
            "\u001b[1m56/56\u001b[0m \u001b[32m━━━━━━━━━━━━━━━━━━━━\u001b[0m\u001b[37m\u001b[0m \u001b[1m0s\u001b[0m 4ms/step - accuracy: 1.0000 - loss: 0.0103 - val_accuracy: 0.8135 - val_loss: 0.5511\n",
            "Epoch 11/25\n",
            "\u001b[1m56/56\u001b[0m \u001b[32m━━━━━━━━━━━━━━━━━━━━\u001b[0m\u001b[37m\u001b[0m \u001b[1m0s\u001b[0m 4ms/step - accuracy: 1.0000 - loss: 0.0079 - val_accuracy: 0.8270 - val_loss: 0.5317\n",
            "Epoch 12/25\n",
            "\u001b[1m56/56\u001b[0m \u001b[32m━━━━━━━━━━━━━━━━━━━━\u001b[0m\u001b[37m\u001b[0m \u001b[1m0s\u001b[0m 3ms/step - accuracy: 1.0000 - loss: 0.0062 - val_accuracy: 0.8090 - val_loss: 0.5678\n",
            "Epoch 13/25\n",
            "\u001b[1m56/56\u001b[0m \u001b[32m━━━━━━━━━━━━━━━━━━━━\u001b[0m\u001b[37m\u001b[0m \u001b[1m0s\u001b[0m 4ms/step - accuracy: 1.0000 - loss: 0.0045 - val_accuracy: 0.8000 - val_loss: 0.5665\n",
            "Epoch 14/25\n",
            "\u001b[1m56/56\u001b[0m \u001b[32m━━━━━━━━━━━━━━━━━━━━\u001b[0m\u001b[37m\u001b[0m \u001b[1m0s\u001b[0m 4ms/step - accuracy: 1.0000 - loss: 0.0034 - val_accuracy: 0.8382 - val_loss: 0.5066\n",
            "Epoch 15/25\n",
            "\u001b[1m56/56\u001b[0m \u001b[32m━━━━━━━━━━━━━━━━━━━━\u001b[0m\u001b[37m\u001b[0m \u001b[1m0s\u001b[0m 4ms/step - accuracy: 1.0000 - loss: 0.0028 - val_accuracy: 0.8315 - val_loss: 0.5296\n",
            "Epoch 16/25\n",
            "\u001b[1m56/56\u001b[0m \u001b[32m━━━━━━━━━━━━━━━━━━━━\u001b[0m\u001b[37m\u001b[0m \u001b[1m0s\u001b[0m 3ms/step - accuracy: 1.0000 - loss: 0.0025 - val_accuracy: 0.8382 - val_loss: 0.5191\n",
            "Epoch 17/25\n",
            "\u001b[1m56/56\u001b[0m \u001b[32m━━━━━━━━━━━━━━━━━━━━\u001b[0m\u001b[37m\u001b[0m \u001b[1m0s\u001b[0m 3ms/step - accuracy: 1.0000 - loss: 0.0020 - val_accuracy: 0.8270 - val_loss: 0.5605\n",
            "Epoch 18/25\n",
            "\u001b[1m56/56\u001b[0m \u001b[32m━━━━━━━━━━━━━━━━━━━━\u001b[0m\u001b[37m\u001b[0m \u001b[1m0s\u001b[0m 4ms/step - accuracy: 1.0000 - loss: 0.0017 - val_accuracy: 0.8404 - val_loss: 0.5205\n",
            "Epoch 19/25\n",
            "\u001b[1m56/56\u001b[0m \u001b[32m━━━━━━━━━━━━━━━━━━━━\u001b[0m\u001b[37m\u001b[0m \u001b[1m0s\u001b[0m 4ms/step - accuracy: 1.0000 - loss: 0.0015 - val_accuracy: 0.8382 - val_loss: 0.5444\n",
            "Epoch 20/25\n",
            "\u001b[1m56/56\u001b[0m \u001b[32m━━━━━━━━━━━━━━━━━━━━\u001b[0m\u001b[37m\u001b[0m \u001b[1m0s\u001b[0m 4ms/step - accuracy: 1.0000 - loss: 0.0013 - val_accuracy: 0.8315 - val_loss: 0.5446\n",
            "Epoch 21/25\n",
            "\u001b[1m56/56\u001b[0m \u001b[32m━━━━━━━━━━━━━━━━━━━━\u001b[0m\u001b[37m\u001b[0m \u001b[1m0s\u001b[0m 3ms/step - accuracy: 1.0000 - loss: 0.0012 - val_accuracy: 0.8315 - val_loss: 0.5482\n",
            "Epoch 22/25\n",
            "\u001b[1m56/56\u001b[0m \u001b[32m━━━━━━━━━━━━━━━━━━━━\u001b[0m\u001b[37m\u001b[0m \u001b[1m0s\u001b[0m 4ms/step - accuracy: 1.0000 - loss: 9.0196e-04 - val_accuracy: 0.8404 - val_loss: 0.5401\n",
            "Epoch 23/25\n",
            "\u001b[1m56/56\u001b[0m \u001b[32m━━━━━━━━━━━━━━━━━━━━\u001b[0m\u001b[37m\u001b[0m \u001b[1m0s\u001b[0m 4ms/step - accuracy: 1.0000 - loss: 8.6803e-04 - val_accuracy: 0.8090 - val_loss: 0.6122\n",
            "Epoch 24/25\n",
            "\u001b[1m56/56\u001b[0m \u001b[32m━━━━━━━━━━━━━━━━━━━━\u001b[0m\u001b[37m\u001b[0m \u001b[1m0s\u001b[0m 4ms/step - accuracy: 1.0000 - loss: 8.0356e-04 - val_accuracy: 0.8315 - val_loss: 0.5616\n",
            "Epoch 25/25\n",
            "\u001b[1m56/56\u001b[0m \u001b[32m━━━━━━━━━━━━━━━━━━━━\u001b[0m\u001b[37m\u001b[0m \u001b[1m0s\u001b[0m 4ms/step - accuracy: 1.0000 - loss: 6.8898e-04 - val_accuracy: 0.8225 - val_loss: 0.5765\n"
          ]
        }
      ]
    },
    {
      "cell_type": "code",
      "metadata": {
        "id": "dQ0BX2apXS9u",
        "colab": {
          "base_uri": "https://localhost:8080/",
          "height": 887
        },
        "outputId": "de896647-1e50-40d2-be2f-535092f9ee9d"
      },
      "source": [
        "# These two graphs will show how the training and validation improved for each epoch.\n",
        "# It may show that the training data accuracy improves even after the validation data\n",
        "#  accuracy stopped improving.\n",
        "#\n",
        "#  This shows that the network is over-training a little bit.\n",
        "#\n",
        "%matplotlib inline\n",
        "import matplotlib.pyplot as plt\n",
        "\n",
        "\n",
        "def plot_graphs(history, string):\n",
        "  plt.plot(history.history[string])\n",
        "  plt.plot(history.history['val_'+string])\n",
        "  plt.xlabel(\"Epochs\")\n",
        "  plt.ylabel(string)\n",
        "  plt.legend([string, 'val_'+string])\n",
        "  plt.show()\n",
        "\n",
        "plot_graphs(history, \"accuracy\")\n",
        "plot_graphs(history, \"loss\")"
      ],
      "execution_count": 40,
      "outputs": [
        {
          "output_type": "display_data",
          "data": {
            "text/plain": [
              "<Figure size 640x480 with 1 Axes>"
            ],
            "image/png": "[encoded data removed]"
          },
          "metadata": {}
        },
        {
          "output_type": "display_data",
          "data": {
            "text/plain": [
              "<Figure size 640x480 with 1 Axes>"
            ],
            "image/png": "[encoded data removed]"
          },
          "metadata": {}
        }
      ]
    },
    {
      "cell_type": "code",
      "metadata": {
        "id": "OhnFA_TDXrih",
        "colab": {
          "base_uri": "https://localhost:8080/"
        },
        "outputId": "d1721316-63a1-458a-cb2b-c05b423646a6"
      },
      "source": [
        "# For fun, if you are interested, you can extract the embedding vectors.\n",
        "# Here is how to extract them from the trained neural network.\n",
        "#\n",
        "e = model.layers[0]\n",
        "weights = e.get_weights()[0]\n",
        "print(weights.shape) # shape: (vocab_size, embedding_dim)\n",
        "\n",
        "# Expected output, using a maximum vocabulary of 1000 words and 16 element vectors\n",
        "# (1000, 16)"
      ],
      "execution_count": 41,
      "outputs": [
        {
          "output_type": "stream",
          "name": "stdout",
          "text": [
            "(1000, 22)\n"
          ]
        }
      ]
    },
    {
      "cell_type": "markdown",
      "source": [
        "**Now we will compare the embeddings of several words of your choice**, using cosine similarity.\n",
        "\n",
        "Since this network was trained for a classification task using only 5 categories, generally the words which are indicative of a particular category should show vector similarity."
      ],
      "metadata": {
        "id": "8MBy-KhxBZ2v"
      }
    },
    {
      "cell_type": "code",
      "source": [
        "# FIRST: Put your words here and test them\n",
        "\n",
        "words = ['gamble', 'bid', 'former', 'boss', 'people', 'watch'] # put your words here\n",
        "words = ['london', 'people', 'digital', 'lost', 'rugby', 'player'] # put your words here\n",
        "for w in words:\n",
        "  if not w in word_index:\n",
        "    print(w, \"not recognized\")\n",
        "  elif word_index[w] >= vocab_size:\n",
        "    print(w, word_index[w], \"> vocab_size\")\n",
        "  else:\n",
        "    print(w, word_index[w], 'OK')\n"
      ],
      "metadata": {
        "id": "-1fa0F4vZkc6",
        "colab": {
          "base_uri": "https://localhost:8080/"
        },
        "outputId": "5660d658-0c06-4da4-de71-9610e45def64"
      },
      "execution_count": 42,
      "outputs": [
        {
          "output_type": "stream",
          "name": "stdout",
          "text": [
            "london 117 OK\n",
            "people 9 OK\n",
            "digital 139 OK\n",
            "lost 268 OK\n",
            "rugby 434 OK\n",
            "player 226 OK\n"
          ]
        }
      ]
    },
    {
      "cell_type": "code",
      "source": [
        "# SECOND: Compute all comparisons\n",
        "\n",
        "# Compare two vectors with cosine: (A dot B) / (|A| * |B|)\n",
        "#\n",
        "def comp(A, B):\n",
        "  return np.dot(A,B) / (np.linalg.norm(A) * np.linalg.norm(B))\n",
        "\n",
        "# Print all comparisons\n",
        "for i in range(len(words)-1):\n",
        "  w1 = words[i]\n",
        "  v1 = weights[word_index[w1]]\n",
        "  for j in range(i+1,len(words)):\n",
        "    w2 = words[j]\n",
        "    v2 = weights[word_index[w2]]\n",
        "    print(\"cosine\", w1, w2, '=', comp(v1, v2))"
      ],
      "metadata": {
        "id": "Dkp_c4eNCx0G",
        "colab": {
          "base_uri": "https://localhost:8080/"
        },
        "outputId": "a28cb700-991a-4613-890b-3df150e46ce8"
      },
      "execution_count": 43,
      "outputs": [
        {
          "output_type": "stream",
          "name": "stdout",
          "text": [
            "cosine london people = -0.27124748\n",
            "cosine london digital = -0.054102782\n",
            "cosine london lost = 0.4309247\n",
            "cosine london rugby = 0.01666379\n",
            "cosine london player = -0.35876274\n",
            "cosine people digital = 0.7187384\n",
            "cosine people lost = -0.3405163\n",
            "cosine people rugby = -0.687418\n",
            "cosine people player = -0.23650463\n",
            "cosine digital lost = -0.4465795\n",
            "cosine digital rugby = -0.6257315\n",
            "cosine digital player = -0.32851917\n",
            "cosine lost rugby = 0.35934314\n",
            "cosine lost player = -0.14279865\n",
            "cosine rugby player = 0.7144027\n"
          ]
        }
      ]
    }
  ]
}